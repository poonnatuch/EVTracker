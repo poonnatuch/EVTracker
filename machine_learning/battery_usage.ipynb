{
  "cells": [
    {
      "cell_type": "markdown",
      "metadata": {
        "id": "Z1dUiHeMSOkO"
      },
      "source": [
        "# นำเข้า library ต่าง ๆ ที่ใช้สำหรับการวิเคราะห์ข้อมูล"
      ]
    },
    {
      "cell_type": "code",
      "execution_count": 1,
      "metadata": {
        "id": "NWGwCYDzDFmb"
      },
      "outputs": [],
      "source": [
        "import pandas as pd\n",
        "import seaborn as sns\n",
        "import matplotlib.pyplot as plt\n",
        "from sklearn.model_selection import train_test_split\n",
        "from sklearn.model_selection import train_test_split\n",
        "from sklearn.linear_model import LinearRegression\n",
        "from sklearn.ensemble import RandomForestRegressor\n",
        "from sklearn.metrics import mean_absolute_error, mean_squared_error, r2_score\n",
        "from xgboost import XGBRegressor\n",
        "from sklearn.model_selection import LeaveOneOut\n",
        "import numpy as np"
      ]
    },
    {
      "cell_type": "markdown",
      "metadata": {
        "id": "OaTG267USvV1"
      },
      "source": [
        "# โหลดข้อมูล โดยอัพโหลดจากคอมพิวเตอร์"
      ]
    },
    {
      "cell_type": "code",
      "execution_count": 2,
      "metadata": {
        "id": "IMXaDwxICL0g"
      },
      "outputs": [],
      "source": [
        "# โหลดข้อมูล\n",
        "file_path = \"../ev_journeys.csv\"\n",
        "df = pd.read_csv(file_path)"
      ]
    },
    {
      "cell_type": "markdown",
      "metadata": {
        "id": "Jo8RGaoMS8jd"
      },
      "source": [
        "# ตรวจสอบข้อมูลใน 5 แถวแรก"
      ]
    },
    {
      "cell_type": "code",
      "execution_count": 3,
      "metadata": {
        "colab": {
          "base_uri": "https://localhost:8080/",
          "height": 226
        },
        "id": "alPpsORdCOhN",
        "outputId": "8846625c-a136-495e-c881-1cfc158296cd"
      },
      "outputs": [
        {
          "data": {
            "text/html": [
              "<div>\n",
              "<style scoped>\n",
              "    .dataframe tbody tr th:only-of-type {\n",
              "        vertical-align: middle;\n",
              "    }\n",
              "\n",
              "    .dataframe tbody tr th {\n",
              "        vertical-align: top;\n",
              "    }\n",
              "\n",
              "    .dataframe thead th {\n",
              "        text-align: right;\n",
              "    }\n",
              "</style>\n",
              "<table border=\"1\" class=\"dataframe\">\n",
              "  <thead>\n",
              "    <tr style=\"text-align: right;\">\n",
              "      <th></th>\n",
              "      <th>google_map_km</th>\n",
              "      <th>google_map_estimate_time</th>\n",
              "      <th>battery_percent_before</th>\n",
              "      <th>drivable_km_before</th>\n",
              "      <th>total_km_before</th>\n",
              "      <th>temperature_before</th>\n",
              "      <th>timestamp_before</th>\n",
              "      <th>date_before</th>\n",
              "      <th>battery_percent_after</th>\n",
              "      <th>drivable_km_after</th>\n",
              "      <th>total_km_after</th>\n",
              "      <th>temperature_after</th>\n",
              "      <th>timestamp_after</th>\n",
              "      <th>date_after</th>\n",
              "    </tr>\n",
              "  </thead>\n",
              "  <tbody>\n",
              "    <tr>\n",
              "      <th>0</th>\n",
              "      <td>4.8</td>\n",
              "      <td>6</td>\n",
              "      <td>57</td>\n",
              "      <td>57</td>\n",
              "      <td>2767</td>\n",
              "      <td>28</td>\n",
              "      <td>08:34</td>\n",
              "      <td>2025-02-17</td>\n",
              "      <td>56</td>\n",
              "      <td>255</td>\n",
              "      <td>2772</td>\n",
              "      <td>29</td>\n",
              "      <td>08:44</td>\n",
              "      <td>2025-02-17</td>\n",
              "    </tr>\n",
              "    <tr>\n",
              "      <th>1</th>\n",
              "      <td>15.0</td>\n",
              "      <td>26</td>\n",
              "      <td>55</td>\n",
              "      <td>248</td>\n",
              "      <td>2776</td>\n",
              "      <td>33</td>\n",
              "      <td>19:07</td>\n",
              "      <td>2025-02-17</td>\n",
              "      <td>51</td>\n",
              "      <td>229</td>\n",
              "      <td>2791</td>\n",
              "      <td>32</td>\n",
              "      <td>19:32</td>\n",
              "      <td>2025-02-17</td>\n",
              "    </tr>\n",
              "    <tr>\n",
              "      <th>2</th>\n",
              "      <td>5.5</td>\n",
              "      <td>10</td>\n",
              "      <td>51</td>\n",
              "      <td>228</td>\n",
              "      <td>2791</td>\n",
              "      <td>28</td>\n",
              "      <td>08:40</td>\n",
              "      <td>2025-02-18</td>\n",
              "      <td>50</td>\n",
              "      <td>224</td>\n",
              "      <td>2796</td>\n",
              "      <td>27</td>\n",
              "      <td>08:53</td>\n",
              "      <td>2025-02-18</td>\n",
              "    </tr>\n",
              "    <tr>\n",
              "      <th>3</th>\n",
              "      <td>6.0</td>\n",
              "      <td>18</td>\n",
              "      <td>50</td>\n",
              "      <td>224</td>\n",
              "      <td>2797</td>\n",
              "      <td>33</td>\n",
              "      <td>17:51</td>\n",
              "      <td>2025-02-18</td>\n",
              "      <td>48</td>\n",
              "      <td>215</td>\n",
              "      <td>2803</td>\n",
              "      <td>35</td>\n",
              "      <td>18:12</td>\n",
              "      <td>2025-02-18</td>\n",
              "    </tr>\n",
              "    <tr>\n",
              "      <th>4</th>\n",
              "      <td>2.1</td>\n",
              "      <td>4</td>\n",
              "      <td>43</td>\n",
              "      <td>189</td>\n",
              "      <td>2825</td>\n",
              "      <td>31</td>\n",
              "      <td>20:36</td>\n",
              "      <td>2025-02-18</td>\n",
              "      <td>43</td>\n",
              "      <td>187</td>\n",
              "      <td>2828</td>\n",
              "      <td>31</td>\n",
              "      <td>20:42</td>\n",
              "      <td>2025-02-18</td>\n",
              "    </tr>\n",
              "  </tbody>\n",
              "</table>\n",
              "</div>"
            ],
            "text/plain": [
              "   google_map_km  google_map_estimate_time  battery_percent_before  \\\n",
              "0            4.8                         6                      57   \n",
              "1           15.0                        26                      55   \n",
              "2            5.5                        10                      51   \n",
              "3            6.0                        18                      50   \n",
              "4            2.1                         4                      43   \n",
              "\n",
              "   drivable_km_before  total_km_before  temperature_before timestamp_before  \\\n",
              "0                  57             2767                  28            08:34   \n",
              "1                 248             2776                  33            19:07   \n",
              "2                 228             2791                  28            08:40   \n",
              "3                 224             2797                  33            17:51   \n",
              "4                 189             2825                  31            20:36   \n",
              "\n",
              "  date_before  battery_percent_after  drivable_km_after  total_km_after  \\\n",
              "0  2025-02-17                     56                255            2772   \n",
              "1  2025-02-17                     51                229            2791   \n",
              "2  2025-02-18                     50                224            2796   \n",
              "3  2025-02-18                     48                215            2803   \n",
              "4  2025-02-18                     43                187            2828   \n",
              "\n",
              "   temperature_after timestamp_after  date_after  \n",
              "0                 29           08:44  2025-02-17  \n",
              "1                 32           19:32  2025-02-17  \n",
              "2                 27           08:53  2025-02-18  \n",
              "3                 35           18:12  2025-02-18  \n",
              "4                 31           20:42  2025-02-18  "
            ]
          },
          "execution_count": 3,
          "metadata": {},
          "output_type": "execute_result"
        }
      ],
      "source": [
        "df.head()\n"
      ]
    },
    {
      "cell_type": "markdown",
      "metadata": {
        "id": "vHgCfsD0TFBk"
      },
      "source": [
        "# ตรวจสอบประเภทของข้อมูล"
      ]
    },
    {
      "cell_type": "code",
      "execution_count": 4,
      "metadata": {
        "colab": {
          "base_uri": "https://localhost:8080/"
        },
        "id": "24wzYwDNn37S",
        "outputId": "60e671d2-72ba-4710-9191-a91ca8f8fdbc"
      },
      "outputs": [
        {
          "name": "stdout",
          "output_type": "stream",
          "text": [
            "<class 'pandas.core.frame.DataFrame'>\n",
            "RangeIndex: 46 entries, 0 to 45\n",
            "Data columns (total 14 columns):\n",
            " #   Column                    Non-Null Count  Dtype  \n",
            "---  ------                    --------------  -----  \n",
            " 0   google_map_km             46 non-null     float64\n",
            " 1   google_map_estimate_time  46 non-null     int64  \n",
            " 2   battery_percent_before    46 non-null     int64  \n",
            " 3   drivable_km_before        46 non-null     int64  \n",
            " 4   total_km_before           46 non-null     int64  \n",
            " 5   temperature_before        46 non-null     int64  \n",
            " 6   timestamp_before          46 non-null     object \n",
            " 7   date_before               46 non-null     object \n",
            " 8   battery_percent_after     46 non-null     int64  \n",
            " 9   drivable_km_after         46 non-null     int64  \n",
            " 10  total_km_after            46 non-null     int64  \n",
            " 11  temperature_after         46 non-null     int64  \n",
            " 12  timestamp_after           46 non-null     object \n",
            " 13  date_after                46 non-null     object \n",
            "dtypes: float64(1), int64(9), object(4)\n",
            "memory usage: 5.2+ KB\n"
          ]
        }
      ],
      "source": [
        "df.info()"
      ]
    },
    {
      "cell_type": "markdown",
      "metadata": {
        "id": "Ci2ewdnTTEBl"
      },
      "source": [
        "# ตรวจสอบขนาดของข้อมูล(แถวและคอลลัมน์)"
      ]
    },
    {
      "cell_type": "code",
      "execution_count": 5,
      "metadata": {
        "colab": {
          "base_uri": "https://localhost:8080/"
        },
        "id": "xvmq4kJ39QT1",
        "outputId": "0815fee3-45c0-405d-ffb3-f9579f5c70d6"
      },
      "outputs": [
        {
          "data": {
            "text/plain": [
              "(46, 14)"
            ]
          },
          "execution_count": 5,
          "metadata": {},
          "output_type": "execute_result"
        }
      ],
      "source": [
        "df.shape"
      ]
    },
    {
      "cell_type": "markdown",
      "metadata": {
        "id": "F6Fh9bGKTkWt"
      },
      "source": [
        "\n",
        "#กรองข้อมูลตามเงื่อนไข โดยกรองข้อมูลที่ทำให้เกิดข้อผิดพลาด\n",
        "drivable_km_before ควรมากกว่า drivable_km_after\n",
        "(กรณีที่ไม่ได้ชาร์ตระหว่างการเดินทาง)\n",
        "\n",
        "total_km_before ควรน้อยกว่า total_km_after (แปลว่ารถได้เดินทางจริง)"
      ]
    },
    {
      "cell_type": "code",
      "execution_count": 6,
      "metadata": {
        "colab": {
          "base_uri": "https://localhost:8080/"
        },
        "id": "VPQRPSyRoheq",
        "outputId": "a09a1fd9-4a53-4fce-819d-b5c5534842ba"
      },
      "outputs": [
        {
          "name": "stdout",
          "output_type": "stream",
          "text": [
            "จำนวนแถวเริ่มต้น: 46\n",
            "จำนวนแถวหลังกรองตามเงื่อนไขทั้งสอง: 44\n",
            "จำนวนแถวที่ถูกลบออก: 2\n",
            "\n",
            "ข้อมูล 5 แถวแรกหลังกรองตามเงื่อนไข:\n",
            "   google_map_km  google_map_estimate_time  battery_percent_before  \\\n",
            "1           15.0                        26                      55   \n",
            "2            5.5                        10                      51   \n",
            "3            6.0                        18                      50   \n",
            "4            2.1                         4                      43   \n",
            "5            5.5                         9                      43   \n",
            "\n",
            "   drivable_km_before  total_km_before  temperature_before timestamp_before  \\\n",
            "1                 248             2776                  33            19:07   \n",
            "2                 228             2791                  28            08:40   \n",
            "3                 224             2797                  33            17:51   \n",
            "4                 189             2825                  31            20:36   \n",
            "5                 187             2828                  28            08:32   \n",
            "\n",
            "  date_before  battery_percent_after  drivable_km_after  total_km_after  \\\n",
            "1  2025-02-17                     51                229            2791   \n",
            "2  2025-02-18                     50                224            2796   \n",
            "3  2025-02-18                     48                215            2803   \n",
            "4  2025-02-18                     43                187            2828   \n",
            "5  2025-02-19                     42                182            2833   \n",
            "\n",
            "   temperature_after timestamp_after  date_after  \n",
            "1                 32           19:32  2025-02-17  \n",
            "2                 27           08:53  2025-02-18  \n",
            "3                 35           18:12  2025-02-18  \n",
            "4                 31           20:42  2025-02-18  \n",
            "5                 29           08:46  2025-02-19  \n"
          ]
        }
      ],
      "source": [
        "rows_before = len(df)\n",
        "print(f\"จำนวนแถวเริ่มต้น: {rows_before}\")\n",
        "\n",
        "# --- โค้ดสำหรับกรองตามเงื่อนไขทั้งสอง ---\n",
        "\n",
        "# กำหนดเงื่อนไขที่ 1: drivable_km_before ต้องมากกว่า drivable_km_after\n",
        "#    (หมายเหตุ: ถ้าคุณคิดว่ากรณีเท่ากัน (=) ก็ยอมรับได้ ให้เปลี่ยน > เป็น >=)\n",
        "condition_drivable = df['drivable_km_before'] > df['drivable_km_after']\n",
        "\n",
        "# กำหนดเงื่อนไขที่ 2: total_km_before ต้องน้อยกว่า total_km_after\n",
        "condition_total_km = df['total_km_before'] < df['total_km_after']\n",
        "\n",
        "# รวมเงื่อนไขทั้งสองเข้าด้วยกัน: ทั้งสองเงื่อนไขต้องเป็นจริง (ใช้ตัวดำเนินการ &)\n",
        "#    สำคัญ: ต้องใส่วงเล็บรอบแต่ละเงื่อนไข!\n",
        "combined_condition = (condition_drivable) & (condition_total_km)\n",
        "\n",
        "# สร้าง DataFrame ใหม่โดยกรองจาก df เดิมด้วยเงื่อนไขรวม\n",
        "# ใช้ .copy() เพื่อป้องกัน Warning และให้แน่ใจว่าเป็น DataFrame ใหม่จริงๆ\n",
        "df_cleaned_strict = df[combined_condition].copy()\n",
        "\n",
        "# แสดงผลลัพธ์\n",
        "rows_after = len(df_cleaned_strict)\n",
        "print(f\"จำนวนแถวหลังกรองตามเงื่อนไขทั้งสอง: {rows_after}\")\n",
        "print(f\"จำนวนแถวที่ถูกลบออก: {rows_before - rows_after}\")\n",
        "\n",
        "# แสดงข้อมูล 5 แถวแรกของ DataFrame ที่กรองแล้ว\n",
        "print(\"\\nข้อมูล 5 แถวแรกหลังกรองตามเงื่อนไข:\")\n",
        "print(df_cleaned_strict.head())"
      ]
    },
    {
      "cell_type": "markdown",
      "metadata": {
        "id": "3EzIHKSQUb5O"
      },
      "source": [
        "# คืนข้อมูลที่กรองแล้วใส่ตัวแปรเดิม"
      ]
    },
    {
      "cell_type": "code",
      "execution_count": 7,
      "metadata": {
        "id": "ZnZDeqIionpI"
      },
      "outputs": [],
      "source": [
        "df = df_cleaned_strict"
      ]
    },
    {
      "cell_type": "markdown",
      "metadata": {
        "id": "R_y4IPOWVNaN"
      },
      "source": [
        "# สร้าง Feature เป้าหมาย และคัดเลือก Features ที่ไม่ได้ใช้ออก"
      ]
    },
    {
      "cell_type": "code",
      "execution_count": 8,
      "metadata": {
        "id": "pNbvi8XOk2Km"
      },
      "outputs": [],
      "source": [
        "# สร้าง Target feature เพื่อให้ Model ทำนาย\n",
        "df[\"battery_usage\"] = df[\"battery_percent_before\"] - df['battery_percent_after']\n",
        "\n",
        "# ลบคอลัมน์ที่ไม่จำเป็น\n",
        "df = df.drop(columns=[\n",
        "    'timestamp_before', 'timestamp_after',\n",
        "    'date_before', 'date_after',\n",
        "    'total_km_after', 'temperature_after',\n",
        "    'drivable_km_after',\n",
        "])"
      ]
    },
    {
      "cell_type": "code",
      "execution_count": 9,
      "metadata": {
        "id": "FhBC2wvbcAoF"
      },
      "outputs": [],
      "source": [
        "df = df.drop(columns=['battery_percent_after'])"
      ]
    },
    {
      "cell_type": "markdown",
      "metadata": {
        "id": "DExOpM-lVefV"
      },
      "source": [
        "# ตรวจสอบข้อมูลหลังจากการกรองข้อมูลแล้ว จะเหลือเพีงแค่ Features ที่จะใช้ train เท่านั้น"
      ]
    },
    {
      "cell_type": "code",
      "execution_count": 10,
      "metadata": {
        "colab": {
          "base_uri": "https://localhost:8080/",
          "height": 206
        },
        "id": "swog7hfMAqwt",
        "outputId": "8516d4ea-3f55-46b2-87cd-f78ced40997a"
      },
      "outputs": [
        {
          "data": {
            "text/html": [
              "<div>\n",
              "<style scoped>\n",
              "    .dataframe tbody tr th:only-of-type {\n",
              "        vertical-align: middle;\n",
              "    }\n",
              "\n",
              "    .dataframe tbody tr th {\n",
              "        vertical-align: top;\n",
              "    }\n",
              "\n",
              "    .dataframe thead th {\n",
              "        text-align: right;\n",
              "    }\n",
              "</style>\n",
              "<table border=\"1\" class=\"dataframe\">\n",
              "  <thead>\n",
              "    <tr style=\"text-align: right;\">\n",
              "      <th></th>\n",
              "      <th>google_map_km</th>\n",
              "      <th>google_map_estimate_time</th>\n",
              "      <th>battery_percent_before</th>\n",
              "      <th>drivable_km_before</th>\n",
              "      <th>total_km_before</th>\n",
              "      <th>temperature_before</th>\n",
              "      <th>battery_usage</th>\n",
              "    </tr>\n",
              "  </thead>\n",
              "  <tbody>\n",
              "    <tr>\n",
              "      <th>1</th>\n",
              "      <td>15.0</td>\n",
              "      <td>26</td>\n",
              "      <td>55</td>\n",
              "      <td>248</td>\n",
              "      <td>2776</td>\n",
              "      <td>33</td>\n",
              "      <td>4</td>\n",
              "    </tr>\n",
              "    <tr>\n",
              "      <th>2</th>\n",
              "      <td>5.5</td>\n",
              "      <td>10</td>\n",
              "      <td>51</td>\n",
              "      <td>228</td>\n",
              "      <td>2791</td>\n",
              "      <td>28</td>\n",
              "      <td>1</td>\n",
              "    </tr>\n",
              "    <tr>\n",
              "      <th>3</th>\n",
              "      <td>6.0</td>\n",
              "      <td>18</td>\n",
              "      <td>50</td>\n",
              "      <td>224</td>\n",
              "      <td>2797</td>\n",
              "      <td>33</td>\n",
              "      <td>2</td>\n",
              "    </tr>\n",
              "    <tr>\n",
              "      <th>4</th>\n",
              "      <td>2.1</td>\n",
              "      <td>4</td>\n",
              "      <td>43</td>\n",
              "      <td>189</td>\n",
              "      <td>2825</td>\n",
              "      <td>31</td>\n",
              "      <td>0</td>\n",
              "    </tr>\n",
              "    <tr>\n",
              "      <th>5</th>\n",
              "      <td>5.5</td>\n",
              "      <td>9</td>\n",
              "      <td>43</td>\n",
              "      <td>187</td>\n",
              "      <td>2828</td>\n",
              "      <td>28</td>\n",
              "      <td>1</td>\n",
              "    </tr>\n",
              "  </tbody>\n",
              "</table>\n",
              "</div>"
            ],
            "text/plain": [
              "   google_map_km  google_map_estimate_time  battery_percent_before  \\\n",
              "1           15.0                        26                      55   \n",
              "2            5.5                        10                      51   \n",
              "3            6.0                        18                      50   \n",
              "4            2.1                         4                      43   \n",
              "5            5.5                         9                      43   \n",
              "\n",
              "   drivable_km_before  total_km_before  temperature_before  battery_usage  \n",
              "1                 248             2776                  33              4  \n",
              "2                 228             2791                  28              1  \n",
              "3                 224             2797                  33              2  \n",
              "4                 189             2825                  31              0  \n",
              "5                 187             2828                  28              1  "
            ]
          },
          "execution_count": 10,
          "metadata": {},
          "output_type": "execute_result"
        }
      ],
      "source": [
        "df.head()"
      ]
    },
    {
      "cell_type": "markdown",
      "metadata": {
        "id": "OPpweYbqChWV"
      },
      "source": [
        "# สร้าง Correlation Matrix เพื่อดูความสัมพันธ์ของ Features อื่นๆ กับ Feature เป้าหมาย"
      ]
    },
    {
      "cell_type": "code",
      "execution_count": 11,
      "metadata": {
        "colab": {
          "base_uri": "https://localhost:8080/",
          "height": 722
        },
        "id": "Tf2BWCTZWWv5",
        "outputId": "f7a34de3-3746-4c37-8b19-e863da9018f0"
      },
      "outputs": [
        {
          "data": {
            "image/png": "[encoded data removed]",
            "text/plain": [
              "<Figure size 720x432 with 2 Axes>"
            ]
          },
          "metadata": {
            "needs_background": "light"
          },
          "output_type": "display_data"
        }
      ],
      "source": [
        "#ลือกเฉพาะคอลัมน์ที่เป็นตัวเลข (numeric_df) เพราะ correlation คำนวณได้เฉพาะตัวเลข\n",
        "numeric_df = df.select_dtypes(include=['number'])\n",
        "corr_matrix = numeric_df.corr()\n",
        "plt.figure(figsize=(10, 6))\n",
        "sns.heatmap(corr_matrix, annot=True, cmap=\"coolwarm\", fmt=\".2f\")\n",
        "plt.title(\"Feature Correlation\")\n",
        "plt.show()\n"
      ]
    },
    {
      "cell_type": "markdown",
      "metadata": {
        "id": "fXFtyN3PZPBk"
      },
      "source": [
        "# ใช้ฟังก์ชัน แสดงกราฟ Bar Chart ของ Top Features ที่สัมพันธ์กับ Target"
      ]
    },
    {
      "cell_type": "code",
      "execution_count": 12,
      "metadata": {
        "colab": {
          "base_uri": "https://localhost:8080/",
          "height": 1000
        },
        "id": "YunCZkJdIFeu",
        "outputId": "d6ea668f-faff-486d-bb4d-71d9603b33bf"
      },
      "outputs": [
        {
          "name": "stdout",
          "output_type": "stream",
          "text": [
            "🔹 Features ที่เลือก: ['google_map_km', 'google_map_estimate_time']\n"
          ]
        },
        {
          "data": {
            "image/png": "[encoded data removed]",
            "text/plain": [
              "<Figure size 720x432 with 1 Axes>"
            ]
          },
          "metadata": {
            "needs_background": "light"
          },
          "output_type": "display_data"
        },
        {
          "data": {
            "image/png": "[encoded data removed]",
            "text/plain": [
              "<Figure size 576x432 with 2 Axes>"
            ]
          },
          "metadata": {
            "needs_background": "light"
          },
          "output_type": "display_data"
        }
      ],
      "source": [
        "def plot_top_features_correlation(corr_target, top_features, target):\n",
        "    \"\"\"สร้าง Bar Chart แสดงค่า Correlation ของ Top Features กับ Target Variable\"\"\"\n",
        "    plt.figure(figsize=(10, 6))\n",
        "    corr_values = corr_target[top_features]\n",
        "    plt.bar(top_features, corr_values)\n",
        "    plt.xlabel(\"Features\")\n",
        "    plt.ylabel(\"Absolute Correlation with Target\")\n",
        "    plt.title(f\"Top Features Correlation with {target}\")\n",
        "    plt.xticks(rotation=45, ha=\"right\")\n",
        "    plt.tight_layout()\n",
        "    plt.show()\n",
        "\n",
        "# เรียกใช้ Function ใน Main Program (หลังจากเลือก Top Features)\n",
        "if __name__ == \"__main__\":\n",
        "\n",
        "    # เลือกฟีเจอร์ที่มี Correlation สูงสุดกับ Target (n Features)\n",
        "    target ='battery_usage'#กำหนด target\n",
        "    corr_target = corr_matrix[target].drop(target).abs()#drop taget ออกจาก features ทั้งหมด\n",
        "    top_features = corr_target.nlargest(2).index.tolist() #เปลี่ยนเลขได้ว่าจะใช้กี่ features ซึ่งจากมาจาก feature ที่ Corr สูงที่สุด\n",
        "    print(\"🔹 Features ที่เลือก:\", top_features)\n",
        "\n",
        "    # เพิ่มการเรียกใช้ Function สำหรับ Visualization\n",
        "    plot_top_features_correlation(corr_target, top_features, target)\n",
        "\n",
        "    # แสดง Heatmap ของฟีเจอร์ที่เลือก(เรียงลำดับ)\n",
        "    plt.figure(figsize=(8, 6))\n",
        "    sns.heatmap(numeric_df[top_features + [target]].corr(), annot=True, cmap=\"coolwarm\", fmt=\".2f\")\n",
        "    plt.title(\"Top Feature Correlation with Target\")\n",
        "    plt.show()\n"
      ]
    },
    {
      "cell_type": "markdown",
      "metadata": {
        "id": "6f-ZxOStXNvE"
      },
      "source": [
        "#   เตรียม Model สำหรับ Train/test ชุดข้อมูล\n"
      ]
    },
    {
      "cell_type": "code",
      "execution_count": 13,
      "metadata": {},
      "outputs": [
        {
          "data": {
            "text/plain": [
              "LinearRegression()"
            ]
          },
          "execution_count": 13,
          "metadata": {},
          "output_type": "execute_result"
        }
      ],
      "source": [
        "# แยก feature และ target\n",
        "X_train = df[top_features]\n",
        "y_train = df['battery_usage']\n",
        "\n",
        "# สร้างและฝึกโมเดล Linear Regression\n",
        "model = LinearRegression()\n",
        "model.fit(X_train, y_train)"
      ]
    },
    {
      "cell_type": "code",
      "execution_count": 14,
      "metadata": {},
      "outputs": [
        {
          "data": {
            "text/plain": [
              "['battery_usage_model.joblib']"
            ]
          },
          "execution_count": 14,
          "metadata": {},
          "output_type": "execute_result"
        }
      ],
      "source": [
        "import joblib\n",
        "joblib.dump(model, \"battery_usage_model.joblib\")"
      ]
    }
  ],
  "metadata": {
    "colab": {
      "collapsed_sections": [
        "Z1dUiHeMSOkO",
        "OaTG267USvV1",
        "Jo8RGaoMS8jd",
        "vHgCfsD0TFBk",
        "Ci2ewdnTTEBl",
        "F6Fh9bGKTkWt",
        "3EzIHKSQUb5O",
        "R_y4IPOWVNaN",
        "DExOpM-lVefV",
        "OPpweYbqChWV",
        "fXFtyN3PZPBk",
        "6f-ZxOStXNvE",
        "6vL7QaLEePD1",
        "_t7bzrqzaHbs"
      ],
      "provenance": []
    },
    "kernelspec": {
      "display_name": "base",
      "language": "python",
      "name": "python3"
    },
    "language_info": {
      "codemirror_mode": {
        "name": "ipython",
        "version": 3
      },
      "file_extension": ".py",
      "mimetype": "text/x-python",
      "name": "python",
      "nbconvert_exporter": "python",
      "pygments_lexer": "ipython3",
      "version": "3.8.8"
    }
  },
  "nbformat": 4,
  "nbformat_minor": 0
}
