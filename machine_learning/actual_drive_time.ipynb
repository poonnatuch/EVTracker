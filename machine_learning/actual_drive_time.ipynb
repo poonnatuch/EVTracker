{
  "cells": [
    {
      "cell_type": "markdown",
      "metadata": {
        "id": "fif2-nJdf9Q-"
      },
      "source": [
        "# นำเข้า library ต่าง ๆ ที่ใช้สำหรับการวิเคราะห์ข้อมูล"
      ]
    },
    {
      "cell_type": "code",
      "execution_count": 1,
      "metadata": {
        "id": "srk8ivbQEnhs"
      },
      "outputs": [],
      "source": [
        "import pandas as pd\n",
        "import seaborn as sns\n",
        "import matplotlib.pyplot as plt\n",
        "from sklearn.model_selection import train_test_split\n",
        "from sklearn.linear_model import LinearRegression\n",
        "from sklearn.ensemble import RandomForestRegressor\n",
        "from sklearn.metrics import mean_absolute_error, mean_squared_error, r2_score\n",
        "from xgboost import XGBRegressor\n",
        "from sklearn.model_selection import LeaveOneOut\n",
        "import numpy as np\n",
        "from sklearn.base import clone"
      ]
    },
    {
      "cell_type": "markdown",
      "metadata": {
        "id": "FZD82r_cgEhd"
      },
      "source": [
        "# โหลดข้อมูล โดยอัพโหลดจากคอมพิวเตอร์และตรวจสอบข้อมูลใน 5 แถวแรก"
      ]
    },
    {
      "cell_type": "code",
      "execution_count": 2,
      "metadata": {
        "colab": {
          "base_uri": "https://localhost:8080/",
          "height": 226
        },
        "id": "yZ3Wc7ADEq5U",
        "outputId": "b8b6045c-f767-44a2-ac6f-a8c3f101488e"
      },
      "outputs": [
        {
          "data": {
            "text/html": [
              "<div>\n",
              "<style scoped>\n",
              "    .dataframe tbody tr th:only-of-type {\n",
              "        vertical-align: middle;\n",
              "    }\n",
              "\n",
              "    .dataframe tbody tr th {\n",
              "        vertical-align: top;\n",
              "    }\n",
              "\n",
              "    .dataframe thead th {\n",
              "        text-align: right;\n",
              "    }\n",
              "</style>\n",
              "<table border=\"1\" class=\"dataframe\">\n",
              "  <thead>\n",
              "    <tr style=\"text-align: right;\">\n",
              "      <th></th>\n",
              "      <th>google_map_km</th>\n",
              "      <th>google_map_estimate_time</th>\n",
              "      <th>battery_percent_before</th>\n",
              "      <th>drivable_km_before</th>\n",
              "      <th>total_km_before</th>\n",
              "      <th>temperature_before</th>\n",
              "      <th>timestamp_before</th>\n",
              "      <th>date_before</th>\n",
              "      <th>battery_percent_after</th>\n",
              "      <th>drivable_km_after</th>\n",
              "      <th>total_km_after</th>\n",
              "      <th>temperature_after</th>\n",
              "      <th>timestamp_after</th>\n",
              "      <th>date_after</th>\n",
              "    </tr>\n",
              "  </thead>\n",
              "  <tbody>\n",
              "    <tr>\n",
              "      <th>0</th>\n",
              "      <td>4.8</td>\n",
              "      <td>6</td>\n",
              "      <td>57</td>\n",
              "      <td>57</td>\n",
              "      <td>2767</td>\n",
              "      <td>28</td>\n",
              "      <td>08:34</td>\n",
              "      <td>2025-02-17</td>\n",
              "      <td>56</td>\n",
              "      <td>255</td>\n",
              "      <td>2772</td>\n",
              "      <td>29</td>\n",
              "      <td>08:44</td>\n",
              "      <td>2025-02-17</td>\n",
              "    </tr>\n",
              "    <tr>\n",
              "      <th>1</th>\n",
              "      <td>15.0</td>\n",
              "      <td>26</td>\n",
              "      <td>55</td>\n",
              "      <td>248</td>\n",
              "      <td>2776</td>\n",
              "      <td>33</td>\n",
              "      <td>19:07</td>\n",
              "      <td>2025-02-17</td>\n",
              "      <td>51</td>\n",
              "      <td>229</td>\n",
              "      <td>2791</td>\n",
              "      <td>32</td>\n",
              "      <td>19:32</td>\n",
              "      <td>2025-02-17</td>\n",
              "    </tr>\n",
              "    <tr>\n",
              "      <th>2</th>\n",
              "      <td>5.5</td>\n",
              "      <td>10</td>\n",
              "      <td>51</td>\n",
              "      <td>228</td>\n",
              "      <td>2791</td>\n",
              "      <td>28</td>\n",
              "      <td>08:40</td>\n",
              "      <td>2025-02-18</td>\n",
              "      <td>50</td>\n",
              "      <td>224</td>\n",
              "      <td>2796</td>\n",
              "      <td>27</td>\n",
              "      <td>08:53</td>\n",
              "      <td>2025-02-18</td>\n",
              "    </tr>\n",
              "    <tr>\n",
              "      <th>3</th>\n",
              "      <td>6.0</td>\n",
              "      <td>18</td>\n",
              "      <td>50</td>\n",
              "      <td>224</td>\n",
              "      <td>2797</td>\n",
              "      <td>33</td>\n",
              "      <td>17:51</td>\n",
              "      <td>2025-02-18</td>\n",
              "      <td>48</td>\n",
              "      <td>215</td>\n",
              "      <td>2803</td>\n",
              "      <td>35</td>\n",
              "      <td>18:12</td>\n",
              "      <td>2025-02-18</td>\n",
              "    </tr>\n",
              "    <tr>\n",
              "      <th>4</th>\n",
              "      <td>2.1</td>\n",
              "      <td>4</td>\n",
              "      <td>43</td>\n",
              "      <td>189</td>\n",
              "      <td>2825</td>\n",
              "      <td>31</td>\n",
              "      <td>20:36</td>\n",
              "      <td>2025-02-18</td>\n",
              "      <td>43</td>\n",
              "      <td>187</td>\n",
              "      <td>2828</td>\n",
              "      <td>31</td>\n",
              "      <td>20:42</td>\n",
              "      <td>2025-02-18</td>\n",
              "    </tr>\n",
              "  </tbody>\n",
              "</table>\n",
              "</div>"
            ],
            "text/plain": [
              "   google_map_km  google_map_estimate_time  battery_percent_before  \\\n",
              "0            4.8                         6                      57   \n",
              "1           15.0                        26                      55   \n",
              "2            5.5                        10                      51   \n",
              "3            6.0                        18                      50   \n",
              "4            2.1                         4                      43   \n",
              "\n",
              "   drivable_km_before  total_km_before  temperature_before timestamp_before  \\\n",
              "0                  57             2767                  28            08:34   \n",
              "1                 248             2776                  33            19:07   \n",
              "2                 228             2791                  28            08:40   \n",
              "3                 224             2797                  33            17:51   \n",
              "4                 189             2825                  31            20:36   \n",
              "\n",
              "  date_before  battery_percent_after  drivable_km_after  total_km_after  \\\n",
              "0  2025-02-17                     56                255            2772   \n",
              "1  2025-02-17                     51                229            2791   \n",
              "2  2025-02-18                     50                224            2796   \n",
              "3  2025-02-18                     48                215            2803   \n",
              "4  2025-02-18                     43                187            2828   \n",
              "\n",
              "   temperature_after timestamp_after  date_after  \n",
              "0                 29           08:44  2025-02-17  \n",
              "1                 32           19:32  2025-02-17  \n",
              "2                 27           08:53  2025-02-18  \n",
              "3                 35           18:12  2025-02-18  \n",
              "4                 31           20:42  2025-02-18  "
            ]
          },
          "execution_count": 2,
          "metadata": {},
          "output_type": "execute_result"
        }
      ],
      "source": [
        "# โหลดข้อมูล\n",
        "file_path = \"../ev_journeys.csv\"\n",
        "df = pd.read_csv(file_path)\n",
        "df.head()"
      ]
    },
    {
      "cell_type": "markdown",
      "metadata": {
        "id": "pbs-cpUegTRF"
      },
      "source": [
        "# ตรวจสอบประเภทของข้อมูล"
      ]
    },
    {
      "cell_type": "code",
      "execution_count": 3,
      "metadata": {
        "colab": {
          "base_uri": "https://localhost:8080/"
        },
        "id": "AJXWT5JSQ5k4",
        "outputId": "466ded5c-6be1-496d-a322-878ee5c6ce20"
      },
      "outputs": [
        {
          "name": "stdout",
          "output_type": "stream",
          "text": [
            "<class 'pandas.core.frame.DataFrame'>\n",
            "RangeIndex: 46 entries, 0 to 45\n",
            "Data columns (total 14 columns):\n",
            " #   Column                    Non-Null Count  Dtype  \n",
            "---  ------                    --------------  -----  \n",
            " 0   google_map_km             46 non-null     float64\n",
            " 1   google_map_estimate_time  46 non-null     int64  \n",
            " 2   battery_percent_before    46 non-null     int64  \n",
            " 3   drivable_km_before        46 non-null     int64  \n",
            " 4   total_km_before           46 non-null     int64  \n",
            " 5   temperature_before        46 non-null     int64  \n",
            " 6   timestamp_before          46 non-null     object \n",
            " 7   date_before               46 non-null     object \n",
            " 8   battery_percent_after     46 non-null     int64  \n",
            " 9   drivable_km_after         46 non-null     int64  \n",
            " 10  total_km_after            46 non-null     int64  \n",
            " 11  temperature_after         46 non-null     int64  \n",
            " 12  timestamp_after           46 non-null     object \n",
            " 13  date_after                46 non-null     object \n",
            "dtypes: float64(1), int64(9), object(4)\n",
            "memory usage: 5.2+ KB\n"
          ]
        }
      ],
      "source": [
        "df.info()"
      ]
    },
    {
      "cell_type": "markdown",
      "metadata": {
        "id": "6_aNL0SHgcNz"
      },
      "source": [
        "# กรองข้อมูลตามเงื่อนไข โดยกรองข้อมูลที่ทำให้เกิดข้อผิดพลาด"
      ]
    },
    {
      "cell_type": "code",
      "execution_count": 4,
      "metadata": {
        "colab": {
          "base_uri": "https://localhost:8080/"
        },
        "id": "jdGE274NhAC0",
        "outputId": "de2efa1b-2b31-497c-a34a-60ba60c4e288"
      },
      "outputs": [
        {
          "name": "stdout",
          "output_type": "stream",
          "text": [
            "จำนวนแถวเริ่มต้น: 46\n",
            "จำนวนแถวหลังกรองตามเงื่อนไขทั้งสอง: 44\n",
            "จำนวนแถวที่ถูกลบออก: 2\n",
            "\n",
            "ข้อมูล 5 แถวแรกหลังกรองตามเงื่อนไข:\n",
            "   google_map_km  google_map_estimate_time  battery_percent_before  \\\n",
            "1           15.0                        26                      55   \n",
            "2            5.5                        10                      51   \n",
            "3            6.0                        18                      50   \n",
            "4            2.1                         4                      43   \n",
            "5            5.5                         9                      43   \n",
            "\n",
            "   drivable_km_before  total_km_before  temperature_before timestamp_before  \\\n",
            "1                 248             2776                  33            19:07   \n",
            "2                 228             2791                  28            08:40   \n",
            "3                 224             2797                  33            17:51   \n",
            "4                 189             2825                  31            20:36   \n",
            "5                 187             2828                  28            08:32   \n",
            "\n",
            "  date_before  battery_percent_after  drivable_km_after  total_km_after  \\\n",
            "1  2025-02-17                     51                229            2791   \n",
            "2  2025-02-18                     50                224            2796   \n",
            "3  2025-02-18                     48                215            2803   \n",
            "4  2025-02-18                     43                187            2828   \n",
            "5  2025-02-19                     42                182            2833   \n",
            "\n",
            "   temperature_after timestamp_after  date_after  \n",
            "1                 32           19:32  2025-02-17  \n",
            "2                 27           08:53  2025-02-18  \n",
            "3                 35           18:12  2025-02-18  \n",
            "4                 31           20:42  2025-02-18  \n",
            "5                 29           08:46  2025-02-19  \n"
          ]
        }
      ],
      "source": [
        "\n",
        "rows_before = len(df)\n",
        "print(f\"จำนวนแถวเริ่มต้น: {rows_before}\")\n",
        "\n",
        "# --- โค้ดสำหรับกรองตามเงื่อนไขทั้งสอง ---\n",
        "\n",
        "# 1. กำหนดเงื่อนไขที่ 1: drivable_km_before ต้องมากกว่า drivable_km_after\n",
        "#    (หมายเหตุ: ถ้าคุณคิดว่ากรณีเท่ากัน (=) ก็ยอมรับได้ ให้เปลี่ยน > เป็น >=)\n",
        "condition_drivable = df['drivable_km_before'] > df['drivable_km_after']\n",
        "\n",
        "# 2. กำหนดเงื่อนไขที่ 2: total_km_before ต้องน้อยกว่า total_km_after\n",
        "condition_total_km = df['total_km_before'] < df['total_km_after']\n",
        "\n",
        "# 3. รวมเงื่อนไขทั้งสองเข้าด้วยกัน: ทั้งสองเงื่อนไขต้องเป็นจริง (ใช้ตัวดำเนินการ &)\n",
        "#    สำคัญ: ต้องใส่วงเล็บรอบแต่ละเงื่อนไข!\n",
        "combined_condition = (condition_drivable) & (condition_total_km)\n",
        "\n",
        "# 4. สร้าง DataFrame ใหม่โดยกรองจาก df เดิมด้วยเงื่อนไขรวม\n",
        "#    ใช้ .copy() เพื่อป้องกัน Warning และให้แน่ใจว่าเป็น DataFrame ใหม่จริงๆ\n",
        "df_cleaned_strict = df[combined_condition].copy()\n",
        "\n",
        "\n",
        "# แสดงผลลัพธ์\n",
        "rows_after = len(df_cleaned_strict)\n",
        "print(f\"จำนวนแถวหลังกรองตามเงื่อนไขทั้งสอง: {rows_after}\")\n",
        "print(f\"จำนวนแถวที่ถูกลบออก: {rows_before - rows_after}\")\n",
        "\n",
        "# แสดงข้อมูล 5 แถวแรกของ DataFrame ที่กรองแล้ว\n",
        "print(\"\\nข้อมูล 5 แถวแรกหลังกรองตามเงื่อนไข:\")\n",
        "print(df_cleaned_strict.head())\n"
      ]
    },
    {
      "cell_type": "markdown",
      "metadata": {
        "id": "rNxPXWVQgjK0"
      },
      "source": [
        "# คืนข้อมูลที่กรองแล้วใส่ตัวแปรเดิม"
      ]
    },
    {
      "cell_type": "code",
      "execution_count": 5,
      "metadata": {
        "id": "-8I7AvfSjqXE"
      },
      "outputs": [],
      "source": [
        "df = df_cleaned_strict"
      ]
    },
    {
      "cell_type": "markdown",
      "metadata": {
        "id": "f-vTJN5Ng6N7"
      },
      "source": [
        "# สร้าง Feature เป้าหมาย และคัดเลือก Features ที่ไม่ได้ใช้ออก"
      ]
    },
    {
      "cell_type": "code",
      "execution_count": 6,
      "metadata": {
        "colab": {
          "base_uri": "https://localhost:8080/"
        },
        "id": "kSfFAQeHHjct",
        "outputId": "153feef4-784b-4615-de5a-7fa6f57e4064"
      },
      "outputs": [],
      "source": [
        "\n",
        "# ลบแถวที่มีค่า missing\n",
        "df = df.dropna(subset=[\"date_before\", \"timestamp_before\", \"date_after\", \"timestamp_after\"])\n",
        "\n",
        "# แปลงเป็น datetime และรองรับ timezone\n",
        "df[\"start_time\"] = pd.to_datetime(df[\"date_before\"] + \" \" + df[\"timestamp_before\"], errors='coerce', utc=True)\n",
        "df[\"end_time\"] = pd.to_datetime(df[\"date_after\"] + \" \" + df[\"timestamp_after\"], errors='coerce', utc=True)\n",
        "\n",
        "#ลบค่าที่ผิดพลาด\n",
        "df = df.dropna(subset=[\"start_time\", \"end_time\"])\n",
        "\n",
        "# คำนวณ actual_drive_time (หน่วย: นาที) และตัดค่าติดลบออก\n",
        "df[\"actual_drive_time\"] = (df[\"end_time\"] - df[\"start_time\"]).dt.total_seconds() / 60\n",
        "df = df[df[\"actual_drive_time\"] >= 0]\n",
        "df = df.drop(columns=['battery_percent_after'])\n",
        "df = df.drop(columns=['drivable_km_after'])\n",
        "df = df.drop(columns=['total_km_after'])\n",
        "df = df.drop(columns=['temperature_after'])\n",
        "df = df.drop(columns=[\"date_before\", \"date_after\", \"timestamp_after\",\"timestamp_before\"])\n",
        "df = df.drop(columns=[\"start_time\", \"end_time\"])"
      ]
    },
    {
      "cell_type": "markdown",
      "metadata": {
        "id": "y4jy964UhNGL"
      },
      "source": [
        "\n",
        "# ตรวจสอบข้อมูลหลังจากการกรองข้อมูลแล้ว จะเหลือเพีงแค่ Features ที่จะใช้ train เท่านั้น"
      ]
    },
    {
      "cell_type": "code",
      "execution_count": 7,
      "metadata": {
        "colab": {
          "base_uri": "https://localhost:8080/",
          "height": 206
        },
        "id": "s4FESjCcSFPq",
        "outputId": "00e2e791-9017-4e3a-ac95-caa7c0950adb"
      },
      "outputs": [
        {
          "data": {
            "text/html": [
              "<div>\n",
              "<style scoped>\n",
              "    .dataframe tbody tr th:only-of-type {\n",
              "        vertical-align: middle;\n",
              "    }\n",
              "\n",
              "    .dataframe tbody tr th {\n",
              "        vertical-align: top;\n",
              "    }\n",
              "\n",
              "    .dataframe thead th {\n",
              "        text-align: right;\n",
              "    }\n",
              "</style>\n",
              "<table border=\"1\" class=\"dataframe\">\n",
              "  <thead>\n",
              "    <tr style=\"text-align: right;\">\n",
              "      <th></th>\n",
              "      <th>google_map_km</th>\n",
              "      <th>google_map_estimate_time</th>\n",
              "      <th>battery_percent_before</th>\n",
              "      <th>drivable_km_before</th>\n",
              "      <th>total_km_before</th>\n",
              "      <th>temperature_before</th>\n",
              "      <th>actual_drive_time</th>\n",
              "    </tr>\n",
              "  </thead>\n",
              "  <tbody>\n",
              "    <tr>\n",
              "      <th>1</th>\n",
              "      <td>15.0</td>\n",
              "      <td>26</td>\n",
              "      <td>55</td>\n",
              "      <td>248</td>\n",
              "      <td>2776</td>\n",
              "      <td>33</td>\n",
              "      <td>25.0</td>\n",
              "    </tr>\n",
              "    <tr>\n",
              "      <th>2</th>\n",
              "      <td>5.5</td>\n",
              "      <td>10</td>\n",
              "      <td>51</td>\n",
              "      <td>228</td>\n",
              "      <td>2791</td>\n",
              "      <td>28</td>\n",
              "      <td>13.0</td>\n",
              "    </tr>\n",
              "    <tr>\n",
              "      <th>3</th>\n",
              "      <td>6.0</td>\n",
              "      <td>18</td>\n",
              "      <td>50</td>\n",
              "      <td>224</td>\n",
              "      <td>2797</td>\n",
              "      <td>33</td>\n",
              "      <td>21.0</td>\n",
              "    </tr>\n",
              "    <tr>\n",
              "      <th>4</th>\n",
              "      <td>2.1</td>\n",
              "      <td>4</td>\n",
              "      <td>43</td>\n",
              "      <td>189</td>\n",
              "      <td>2825</td>\n",
              "      <td>31</td>\n",
              "      <td>6.0</td>\n",
              "    </tr>\n",
              "    <tr>\n",
              "      <th>5</th>\n",
              "      <td>5.5</td>\n",
              "      <td>9</td>\n",
              "      <td>43</td>\n",
              "      <td>187</td>\n",
              "      <td>2828</td>\n",
              "      <td>28</td>\n",
              "      <td>14.0</td>\n",
              "    </tr>\n",
              "  </tbody>\n",
              "</table>\n",
              "</div>"
            ],
            "text/plain": [
              "   google_map_km  google_map_estimate_time  battery_percent_before  \\\n",
              "1           15.0                        26                      55   \n",
              "2            5.5                        10                      51   \n",
              "3            6.0                        18                      50   \n",
              "4            2.1                         4                      43   \n",
              "5            5.5                         9                      43   \n",
              "\n",
              "   drivable_km_before  total_km_before  temperature_before  actual_drive_time  \n",
              "1                 248             2776                  33               25.0  \n",
              "2                 228             2791                  28               13.0  \n",
              "3                 224             2797                  33               21.0  \n",
              "4                 189             2825                  31                6.0  \n",
              "5                 187             2828                  28               14.0  "
            ]
          },
          "execution_count": 7,
          "metadata": {},
          "output_type": "execute_result"
        }
      ],
      "source": [
        "df.head()"
      ]
    },
    {
      "cell_type": "markdown",
      "metadata": {
        "id": "H-H15G5-h2n0"
      },
      "source": [
        "# สร้าง Correlation Matrix เพื่อดูความสัมพันธ์ของ Features อื่นๆ กับ Feature เป้าหมาย"
      ]
    },
    {
      "cell_type": "code",
      "execution_count": 8,
      "metadata": {
        "colab": {
          "base_uri": "https://localhost:8080/",
          "height": 722
        },
        "id": "6hHfUe7MJs10",
        "outputId": "b4b988a4-bdcb-448a-9348-b236b0275c74"
      },
      "outputs": [
        {
          "data": {
            "image/png": "[encoded data removed]",
            "text/plain": [
              "<Figure size 720x432 with 2 Axes>"
            ]
          },
          "metadata": {
            "needs_background": "light"
          },
          "output_type": "display_data"
        }
      ],
      "source": [
        "numeric_df = df.select_dtypes(include=['number'])\n",
        "corr_matrix = numeric_df.corr()\n",
        "plt.figure(figsize=(10, 6))\n",
        "sns.heatmap(corr_matrix, annot=True, cmap=\"coolwarm\", fmt=\".2f\")\n",
        "plt.title(\"Feature Correlation\")\n",
        "plt.show()"
      ]
    },
    {
      "cell_type": "markdown",
      "metadata": {
        "id": "t5J9HXT3h9jL"
      },
      "source": [
        "# ใช้ฟังก์ชัน แสดงกราฟ Bar Chart ของ Top Features ที่สัมพันธ์กับ Target"
      ]
    },
    {
      "cell_type": "code",
      "execution_count": 9,
      "metadata": {
        "colab": {
          "base_uri": "https://localhost:8080/",
          "height": 1000
        },
        "id": "HYk6hZK6LUWE",
        "outputId": "f24e6bb2-9bf5-43e4-c9ad-b4c8d787ada6"
      },
      "outputs": [
        {
          "name": "stdout",
          "output_type": "stream",
          "text": [
            "🔹 Features ที่เลือก: ['google_map_estimate_time', 'google_map_km']\n"
          ]
        },
        {
          "data": {
            "image/png": "[encoded data removed]",
            "text/plain": [
              "<Figure size 720x432 with 1 Axes>"
            ]
          },
          "metadata": {
            "needs_background": "light"
          },
          "output_type": "display_data"
        },
        {
          "data": {
            "image/png": "[encoded data removed]",
            "text/plain": [
              "<Figure size 576x432 with 2 Axes>"
            ]
          },
          "metadata": {
            "needs_background": "light"
          },
          "output_type": "display_data"
        }
      ],
      "source": [
        "def plot_top_features_correlation(corr_target, top_features, target):\n",
        "    \"\"\"สร้าง Bar Chart แสดงค่า Correlation ของ Top Features กับ Target Variable\"\"\"\n",
        "    plt.figure(figsize=(10, 6))\n",
        "    corr_values = corr_target[top_features]\n",
        "    plt.bar(top_features, corr_values)\n",
        "    plt.xlabel(\"Features\")\n",
        "    plt.ylabel(\"Absolute Correlation with Target\")\n",
        "    plt.title(f\"Top Features Correlation with {target}\")\n",
        "    plt.xticks(rotation=45, ha=\"right\")\n",
        "    plt.tight_layout()\n",
        "    plt.show()\n",
        "\n",
        "# เรียกใช้ Function ใน Main Program (หลังจากเลือก Top Features)\n",
        "if __name__ == \"__main__\":\n",
        "    # ... (Code ส่วนอื่นๆ) ...\n",
        "\n",
        "    # 5. เลือกฟีเจอร์ที่มี Correlation สูงสุดกับ Target\n",
        "    target ='actual_drive_time'\n",
        "    corr_target = corr_matrix[target].drop(target).abs()\n",
        "    top_features = corr_target.nlargest(2).index.tolist()\n",
        "    print(\"🔹 Features ที่เลือก:\", top_features)\n",
        "\n",
        "    # เพิ่มการเรียกใช้ Function สำหรับ Visualization\n",
        "    plot_top_features_correlation(corr_target, top_features, target)\n",
        "\n",
        "    # 6. แสดง Heatmap ของฟีเจอร์ที่เลือก\n",
        "    plt.figure(figsize=(8, 6))\n",
        "    sns.heatmap(numeric_df[top_features + [target]].corr(), annot=True, cmap=\"coolwarm\", fmt=\".2f\")\n",
        "    plt.title(\"Top Feature Correlation with Target\")\n",
        "    plt.show()"
      ]
    },
    {
      "cell_type": "markdown",
      "metadata": {
        "id": "O01pSbVDiFdc"
      },
      "source": [
        "# เตรียม Model สำหรับ Train/test ชุดข้อมูล\n"
      ]
    },
    {
      "cell_type": "code",
      "execution_count": 10,
      "metadata": {},
      "outputs": [
        {
          "data": {
            "text/plain": [
              "LinearRegression()"
            ]
          },
          "execution_count": 10,
          "metadata": {},
          "output_type": "execute_result"
        }
      ],
      "source": [
        "# แยก feature และ target\n",
        "X_train = df[top_features]\n",
        "y_train = df['actual_drive_time']\n",
        "\n",
        "# สร้างและฝึกโมเดล Linear Regression\n",
        "model = LinearRegression()\n",
        "model.fit(X_train, y_train)\n",
        "\n",
        "\n"
      ]
    },
    {
      "cell_type": "code",
      "execution_count": 11,
      "metadata": {},
      "outputs": [
        {
          "data": {
            "text/plain": [
              "['actual_time_drive_model.joblib']"
            ]
          },
          "execution_count": 11,
          "metadata": {},
          "output_type": "execute_result"
        }
      ],
      "source": [
        "import joblib\n",
        "joblib.dump(model, \"actual_time_drive_model.joblib\")"
      ]
    }
  ],
  "metadata": {
    "colab": {
      "provenance": []
    },
    "kernelspec": {
      "display_name": "base",
      "language": "python",
      "name": "python3"
    },
    "language_info": {
      "codemirror_mode": {
        "name": "ipython",
        "version": 3
      },
      "file_extension": ".py",
      "mimetype": "text/x-python",
      "name": "python",
      "nbconvert_exporter": "python",
      "pygments_lexer": "ipython3",
      "version": "3.8.8"
    }
  },
  "nbformat": 4,
  "nbformat_minor": 0
}
